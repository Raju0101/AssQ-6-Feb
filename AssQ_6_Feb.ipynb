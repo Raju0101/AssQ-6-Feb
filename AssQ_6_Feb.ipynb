{
 "cells": [
  {
   "cell_type": "code",
   "execution_count": null,
   "id": "bfc00c45-0311-4f80-9fc2-40a8fc916285",
   "metadata": {},
   "outputs": [],
   "source": []
  },
  {
   "cell_type": "code",
   "execution_count": null,
   "id": "c8671a1a-95b6-44a7-b73b-2483107945c3",
   "metadata": {},
   "outputs": [],
   "source": [
    "Q1. Create a function which will take a list as an argument and return the product of all the numbers \n",
    "after creating a flat list.\n",
    "\n",
    "Use the below-given list as an argument for your function.\n",
    "\n",
    "\n",
    "list1 = [1,2,3,4, [44,55,66, True], False, (34,56,78,89,34), {1,2,3,3,2,1}, {1:34, \"key2\": [55, 67, 78, 89], 4: (45, \n",
    "22, 61, 34)}, [56, 'data science'], 'Machine Learning']\n",
    "\n",
    "\n",
    "Note: you must extract numeric keys and values of the dictionary also."
   ]
  },
  {
   "cell_type": "code",
   "execution_count": 1,
   "id": "8c89186b-0847-4280-99ab-805f513aaddb",
   "metadata": {},
   "outputs": [
    {
     "name": "stdout",
     "output_type": "stream",
     "text": [
      "Product of numeric values: 0\n"
     ]
    }
   ],
   "source": [
    "def flatten_and_calculate_product(input_list):\n",
    "    def flatten(lst):\n",
    "        flat_list = []\n",
    "        for item in lst:\n",
    "            if isinstance(item, (list, tuple, set)):\n",
    "                flat_list.extend(flatten(item))\n",
    "            elif isinstance(item, dict):\n",
    "                flat_list.extend(flatten(item.values()))\n",
    "            elif isinstance(item, (int, float)):\n",
    "                flat_list.append(item)\n",
    "        return flat_list\n",
    "    \n",
    "    flat_numeric_list = flatten(input_list)\n",
    "    \n",
    "    if len(flat_numeric_list) == 0:\n",
    "        return None\n",
    "    \n",
    "    product = 1\n",
    "    for num in flat_numeric_list:\n",
    "        product *= num\n",
    "    \n",
    "    return product\n",
    "\n",
    "# Given list\n",
    "list1 = [1,2,3,4, [44,55,66, True], False, (34,56,78,89,34), {1,2,3,3,2,1}, \n",
    "         {1:34, \"key2\": [55, 67, 78, 89], 4: (45, 22, 61, 34)}, [56, 'data science'], 'Machine Learning']\n",
    "\n",
    "result = flatten_and_calculate_product(list1)\n",
    "print(\"Product of numeric values:\", result)\n"
   ]
  },
  {
   "cell_type": "code",
   "execution_count": null,
   "id": "850f5357-d30b-4d00-ac76-03a44025795f",
   "metadata": {},
   "outputs": [],
   "source": [
    "Please note that this code will treat dictionary keys as numeric values if they are integers or floats.\n",
    "If you want to exclude dictionary keys and only consider numeric values associated with keys, \n",
    "you can modify the dictionary flattening part accordingly."
   ]
  },
  {
   "cell_type": "code",
   "execution_count": null,
   "id": "78cbcf1c-6495-49d2-8533-2a6b96d70d5a",
   "metadata": {},
   "outputs": [],
   "source": []
  },
  {
   "cell_type": "code",
   "execution_count": null,
   "id": "38d07227-cc9e-4c89-812f-e7a19762dfb3",
   "metadata": {},
   "outputs": [],
   "source": [
    "Q2. Write a python program for encrypting a message sent to you by your friend. The logic of encryption \n",
    "should be such that, for a the output should be z. For b, the output should be y. For c, the output should \n",
    "be x respectively. Also, the whitespace should be replaced with a dollar sign. Keep the punctuation \n",
    "marks unchanged.\n",
    "\n",
    "\n",
    "Input Sentence: I want to become a Data Scientist.\n",
    "\n",
    "\n",
    "Encrypt the above input sentence using the program you just created.\n",
    "\n",
    "\n",
    "Note: Convert the given input sentence into lowercase before encrypting. The final output should be \n",
    "lowercase"
   ]
  },
  {
   "cell_type": "code",
   "execution_count": 2,
   "id": "fb3fb415-49ad-4e77-b1e2-40ad4dde75ce",
   "metadata": {},
   "outputs": [
    {
     "name": "stdout",
     "output_type": "stream",
     "text": [
      "Encrypted message: $dzmg$gl$yvxlnv$z$zgz$xrvmgrhg.\n"
     ]
    }
   ],
   "source": [
    "def encrypt_message(message):\n",
    "    encrypted_message = \"\"\n",
    "    for char in message:\n",
    "        if char.isalpha():\n",
    "            offset = ord(char) - ord('a')\n",
    "            encrypted_char = chr(ord('z') - offset)\n",
    "            encrypted_message += encrypted_char\n",
    "        elif char == ' ':\n",
    "            encrypted_message += '$'\n",
    "        else:\n",
    "            encrypted_message += char\n",
    "    \n",
    "    return encrypted_message.lower()\n",
    "\n",
    "input_sentence = \"I want to become a Data Scientist.\"\n",
    "encrypted_sentence = encrypt_message(input_sentence)\n",
    "print(\"Encrypted message:\", encrypted_sentence)"
   ]
  },
  {
   "cell_type": "code",
   "execution_count": null,
   "id": "940f6283-3c83-4d30-a930-b4b4b8927497",
   "metadata": {},
   "outputs": [],
   "source": [
    "When you run this program, it will take the input sentence, convert it to lowercase,\n",
    "apply the specified encryption rules, and then print the encrypted message.\n",
    "The output will be in lowercase, as requested."
   ]
  },
  {
   "cell_type": "code",
   "execution_count": null,
   "id": "f8000338-b9c0-470b-8271-fba2b5da8e67",
   "metadata": {},
   "outputs": [],
   "source": []
  },
  {
   "cell_type": "code",
   "execution_count": null,
   "id": "40dac526-4b99-4020-9cac-074bc8bf9b1b",
   "metadata": {},
   "outputs": [],
   "source": [
    "............................................The End............................."
   ]
  },
  {
   "cell_type": "code",
   "execution_count": null,
   "id": "6b09f352-f3e7-4967-8544-e7784bf9c632",
   "metadata": {},
   "outputs": [],
   "source": []
  },
  {
   "cell_type": "code",
   "execution_count": null,
   "id": "8cd41948-7f43-4d93-b4f3-1a0e7c027765",
   "metadata": {},
   "outputs": [],
   "source": []
  }
 ],
 "metadata": {
  "kernelspec": {
   "display_name": "Python 3 (ipykernel)",
   "language": "python",
   "name": "python3"
  },
  "language_info": {
   "codemirror_mode": {
    "name": "ipython",
    "version": 3
   },
   "file_extension": ".py",
   "mimetype": "text/x-python",
   "name": "python",
   "nbconvert_exporter": "python",
   "pygments_lexer": "ipython3",
   "version": "3.10.6"
  }
 },
 "nbformat": 4,
 "nbformat_minor": 5
}
